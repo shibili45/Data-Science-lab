{
  "nbformat": 4,
  "nbformat_minor": 0,
  "metadata": {
    "colab": {
      "provenance": [],
      "authorship_tag": "ABX9TyOry2DD/mmYVlrLMAz5x1Gl",
      "include_colab_link": true
    },
    "kernelspec": {
      "name": "python3",
      "display_name": "Python 3"
    },
    "language_info": {
      "name": "python"
    }
  },
  "cells": [
    {
      "cell_type": "markdown",
      "metadata": {
        "id": "view-in-github",
        "colab_type": "text"
      },
      "source": [
        "<a href=\"https://colab.research.google.com/github/raichalvarghese/Data_Science_Lab/blob/master/WebScraping.ipynb\" target=\"_parent\"><img src=\"https://colab.research.google.com/assets/colab-badge.svg\" alt=\"Open In Colab\"/></a>"
      ]
    },
    {
      "cell_type": "code",
      "execution_count": 24,
      "metadata": {
        "id": "WlBI_PzijjNt"
      },
      "outputs": [],
      "source": [
        "import requests\n",
        "from bs4 import BeautifulSoup\n",
        "import pandas as pd\n",
        "import numpy as np"
      ]
    },
    {
      "cell_type": "code",
      "source": [
        "webpage = requests.get(\"https://www.flipkart.com/search?q=laptop&sid=6bo%2Cb5g&as=on&as-show=on&otracker=AS_QueryStore_OrganicAutoSuggest_1_3_na_na_na&otracker1=AS_QueryStore_OrganicAutoSuggest_1_3_na_na_na&as-pos=1&as-type=RECENT&suggestionId=laptop%7CLaptops&requestId=d26dc68e-7daa-41b1-823c-c79a81523267&as-searchtext=lap\")"
      ],
      "metadata": {
        "id": "8HfluICVjyqe"
      },
      "execution_count": 36,
      "outputs": []
    },
    {
      "cell_type": "code",
      "source": [
        "webpage"
      ],
      "metadata": {
        "colab": {
          "base_uri": "https://localhost:8080/"
        },
        "id": "3sauJQxXjyte",
        "outputId": "08d4dd45-5bff-4789-f733-1a858df25efa"
      },
      "execution_count": 37,
      "outputs": [
        {
          "output_type": "execute_result",
          "data": {
            "text/plain": [
              "<Response [200]>"
            ]
          },
          "metadata": {},
          "execution_count": 37
        }
      ]
    },
    {
      "cell_type": "code",
      "source": [
        "soup = BeautifulSoup(webpage.content,\"html.parser\")"
      ],
      "metadata": {
        "id": "hGaQE3tcjxq-"
      },
      "execution_count": 38,
      "outputs": []
    },
    {
      "cell_type": "code",
      "source": [
        "#print(soup.prettify())"
      ],
      "metadata": {
        "id": "eYE5oRw5jxue"
      },
      "execution_count": 67,
      "outputs": []
    },
    {
      "cell_type": "code",
      "source": [
        "Products = soup.find_all(\"div\",class_=\"_4rR01T\")"
      ],
      "metadata": {
        "id": "RAmGPqY1jxyW"
      },
      "execution_count": 42,
      "outputs": []
    },
    {
      "cell_type": "code",
      "source": [
        "#Products"
      ],
      "metadata": {
        "id": "PLHV89bmpy_P"
      },
      "execution_count": 71,
      "outputs": []
    },
    {
      "cell_type": "code",
      "source": [
        "Lap_names = [] \n",
        "for i in range(0,len(Products)):\n",
        "  Lap_names.append(Products[i].get_text())\n"
      ],
      "metadata": {
        "id": "Um6ZMnFJp0JO"
      },
      "execution_count": 45,
      "outputs": []
    },
    {
      "cell_type": "code",
      "source": [
        "#Lap_names"
      ],
      "metadata": {
        "id": "bXYsNR5Otmhu"
      },
      "execution_count": 70,
      "outputs": []
    },
    {
      "cell_type": "code",
      "source": [
        "price = soup.find_all(\"div\",class_=\"_30jeq3 _1_WHN1\")"
      ],
      "metadata": {
        "id": "m-skhl3FtpPU"
      },
      "execution_count": 47,
      "outputs": []
    },
    {
      "cell_type": "code",
      "source": [
        "#price"
      ],
      "metadata": {
        "id": "C3Qu3kDCt3Tv"
      },
      "execution_count": 69,
      "outputs": []
    },
    {
      "cell_type": "code",
      "source": [
        "price_values = [] \n",
        "for i in range(0,len(price)):\n",
        "  price_values.append(price[i].get_text())"
      ],
      "metadata": {
        "id": "Gg1V5XmMt3XW"
      },
      "execution_count": 52,
      "outputs": []
    },
    {
      "cell_type": "code",
      "source": [
        "#price_values"
      ],
      "metadata": {
        "id": "Cz2hnaIAt3cO"
      },
      "execution_count": 72,
      "outputs": []
    },
    {
      "cell_type": "code",
      "source": [
        "ratings = soup.find_all(\"div\",class_=\"_3LWZlK\")\n",
        "#ratings"
      ],
      "metadata": {
        "id": "sErPPAdFt3fO"
      },
      "execution_count": 68,
      "outputs": []
    },
    {
      "cell_type": "code",
      "source": [
        "Rating_values = [] \n",
        "for i in range(0,len(ratings)):\n",
        "  Rating_values.append(ratings[i].get_text())"
      ],
      "metadata": {
        "id": "aaKXBVb8t3iH"
      },
      "execution_count": 55,
      "outputs": []
    },
    {
      "cell_type": "code",
      "source": [
        "#Rating_values "
      ],
      "metadata": {
        "id": "iB-1-MgOt3kg"
      },
      "execution_count": 73,
      "outputs": []
    },
    {
      "cell_type": "code",
      "source": [
        "print(len(Lap_names),len(price_values),len(Rating_values))"
      ],
      "metadata": {
        "colab": {
          "base_uri": "https://localhost:8080/"
        },
        "id": "z1XV-jL-vdSO",
        "outputId": "b1cb3f8d-3674-428b-e9fb-b225cc32cc87"
      },
      "execution_count": 58,
      "outputs": [
        {
          "output_type": "stream",
          "name": "stdout",
          "text": [
            "24 24 38\n"
          ]
        }
      ]
    },
    {
      "cell_type": "code",
      "source": [
        "df = pd.DataFrame()\n",
        "final = pd.DataFrame({\"LAPTOP NAMES\":Lap_names,\"PRICE\":price_values})\n",
        "final"
      ],
      "metadata": {
        "colab": {
          "base_uri": "https://localhost:8080/",
          "height": 802
        },
        "id": "GwCvCfOEvt_t",
        "outputId": "e04ace52-8250-49c6-f4c4-f8ea110da335"
      },
      "execution_count": 60,
      "outputs": [
        {
          "output_type": "execute_result",
          "data": {
            "text/plain": [
              "                                         LAPTOP NAMES      PRICE\n",
              "0   acer Aspire 7 Ryzen 5 Hexa Core AMD R5-5500U -...    ₹45,990\n",
              "1   RedmiBook 15 Core i3 11th Gen - (8 GB/256 GB S...    ₹29,999\n",
              "2   HP Athlon Dual Core 3050U - (4 GB/256 GB SSD/D...    ₹22,490\n",
              "3   HP Athlon Dual Core 3050U - (8 GB/512 GB SSD/W...    ₹29,990\n",
              "4   MSI GF63 Thin Core i5 11th Gen - (8 GB/512 GB ...    ₹49,990\n",
              "5   HP Athlon Dual Core 3050U - (8 GB/256 GB SSD/W...    ₹26,999\n",
              "6   ASUS VivoBook 15 (2022) Core i3 10th Gen - (8 ...    ₹35,990\n",
              "7   acer Aspire 7 Ryzen 5 Hexa Core 5500U - (16 GB...    ₹49,990\n",
              "8   MSI Bravo 15 Ryzen 5 Hexa Core AMD R5-5600H - ...    ₹49,990\n",
              "9   Lenovo IdeaPad 3 Celeron Dual Core - (8 GB/256...    ₹29,980\n",
              "10  Lenovo IdeaPad 3 Core i3 11th Gen - (8 GB/512 ...    ₹38,799\n",
              "11  ASUS VivoBook 14 (2022) Core i5 11th Gen - (8 ...    ₹47,990\n",
              "12  ASUS VivoBook 15 (2022) Core i5 10th Gen - (8 ...    ₹44,990\n",
              "13  HP Pavilion Ryzen 5 Hexa Core AMD R5-5600H - (...    ₹62,990\n",
              "14  APPLE 2021 Macbook Pro M1 Max - (32 GB/1 TB SS...  ₹3,09,490\n",
              "15  ASUS VivoBook 14 (2022) Ryzen 7 Quad Core AMD ...    ₹47,990\n",
              "16  DELL Inspiron Athlon Dual Core 3050U - (8 GB/2...    ₹31,990\n",
              "17  MSI Core i7 11th Gen - (8 GB/512 GB SSD/Window...    ₹68,990\n",
              "18  Infinix INBook X1 Neo Series Celeron Quad Core...    ₹24,999\n",
              "19  HP Core i3 11th Gen - (8 GB/512 GB SSD/Windows...    ₹42,990\n",
              "20  Lenovo IdeaPad 3 Ryzen 5 Hexa Core 5500U - (8 ...    ₹46,518\n",
              "21  MSI Core i7 11th Gen - (8 GB/512 GB SSD/Window...    ₹59,990\n",
              "22  HP Core i3 11th Gen - (8 GB/512 GB SSD/Windows...    ₹37,399\n",
              "23  DELL Ryzen 5 Hexa Core AMD R5-5600H - (16 GB/5...    ₹70,990"
            ],
            "text/html": [
              "\n",
              "  <div id=\"df-75a92476-17df-443f-a5e8-433bf9ac9ecb\">\n",
              "    <div class=\"colab-df-container\">\n",
              "      <div>\n",
              "<style scoped>\n",
              "    .dataframe tbody tr th:only-of-type {\n",
              "        vertical-align: middle;\n",
              "    }\n",
              "\n",
              "    .dataframe tbody tr th {\n",
              "        vertical-align: top;\n",
              "    }\n",
              "\n",
              "    .dataframe thead th {\n",
              "        text-align: right;\n",
              "    }\n",
              "</style>\n",
              "<table border=\"1\" class=\"dataframe\">\n",
              "  <thead>\n",
              "    <tr style=\"text-align: right;\">\n",
              "      <th></th>\n",
              "      <th>LAPTOP NAMES</th>\n",
              "      <th>PRICE</th>\n",
              "    </tr>\n",
              "  </thead>\n",
              "  <tbody>\n",
              "    <tr>\n",
              "      <th>0</th>\n",
              "      <td>acer Aspire 7 Ryzen 5 Hexa Core AMD R5-5500U -...</td>\n",
              "      <td>₹45,990</td>\n",
              "    </tr>\n",
              "    <tr>\n",
              "      <th>1</th>\n",
              "      <td>RedmiBook 15 Core i3 11th Gen - (8 GB/256 GB S...</td>\n",
              "      <td>₹29,999</td>\n",
              "    </tr>\n",
              "    <tr>\n",
              "      <th>2</th>\n",
              "      <td>HP Athlon Dual Core 3050U - (4 GB/256 GB SSD/D...</td>\n",
              "      <td>₹22,490</td>\n",
              "    </tr>\n",
              "    <tr>\n",
              "      <th>3</th>\n",
              "      <td>HP Athlon Dual Core 3050U - (8 GB/512 GB SSD/W...</td>\n",
              "      <td>₹29,990</td>\n",
              "    </tr>\n",
              "    <tr>\n",
              "      <th>4</th>\n",
              "      <td>MSI GF63 Thin Core i5 11th Gen - (8 GB/512 GB ...</td>\n",
              "      <td>₹49,990</td>\n",
              "    </tr>\n",
              "    <tr>\n",
              "      <th>5</th>\n",
              "      <td>HP Athlon Dual Core 3050U - (8 GB/256 GB SSD/W...</td>\n",
              "      <td>₹26,999</td>\n",
              "    </tr>\n",
              "    <tr>\n",
              "      <th>6</th>\n",
              "      <td>ASUS VivoBook 15 (2022) Core i3 10th Gen - (8 ...</td>\n",
              "      <td>₹35,990</td>\n",
              "    </tr>\n",
              "    <tr>\n",
              "      <th>7</th>\n",
              "      <td>acer Aspire 7 Ryzen 5 Hexa Core 5500U - (16 GB...</td>\n",
              "      <td>₹49,990</td>\n",
              "    </tr>\n",
              "    <tr>\n",
              "      <th>8</th>\n",
              "      <td>MSI Bravo 15 Ryzen 5 Hexa Core AMD R5-5600H - ...</td>\n",
              "      <td>₹49,990</td>\n",
              "    </tr>\n",
              "    <tr>\n",
              "      <th>9</th>\n",
              "      <td>Lenovo IdeaPad 3 Celeron Dual Core - (8 GB/256...</td>\n",
              "      <td>₹29,980</td>\n",
              "    </tr>\n",
              "    <tr>\n",
              "      <th>10</th>\n",
              "      <td>Lenovo IdeaPad 3 Core i3 11th Gen - (8 GB/512 ...</td>\n",
              "      <td>₹38,799</td>\n",
              "    </tr>\n",
              "    <tr>\n",
              "      <th>11</th>\n",
              "      <td>ASUS VivoBook 14 (2022) Core i5 11th Gen - (8 ...</td>\n",
              "      <td>₹47,990</td>\n",
              "    </tr>\n",
              "    <tr>\n",
              "      <th>12</th>\n",
              "      <td>ASUS VivoBook 15 (2022) Core i5 10th Gen - (8 ...</td>\n",
              "      <td>₹44,990</td>\n",
              "    </tr>\n",
              "    <tr>\n",
              "      <th>13</th>\n",
              "      <td>HP Pavilion Ryzen 5 Hexa Core AMD R5-5600H - (...</td>\n",
              "      <td>₹62,990</td>\n",
              "    </tr>\n",
              "    <tr>\n",
              "      <th>14</th>\n",
              "      <td>APPLE 2021 Macbook Pro M1 Max - (32 GB/1 TB SS...</td>\n",
              "      <td>₹3,09,490</td>\n",
              "    </tr>\n",
              "    <tr>\n",
              "      <th>15</th>\n",
              "      <td>ASUS VivoBook 14 (2022) Ryzen 7 Quad Core AMD ...</td>\n",
              "      <td>₹47,990</td>\n",
              "    </tr>\n",
              "    <tr>\n",
              "      <th>16</th>\n",
              "      <td>DELL Inspiron Athlon Dual Core 3050U - (8 GB/2...</td>\n",
              "      <td>₹31,990</td>\n",
              "    </tr>\n",
              "    <tr>\n",
              "      <th>17</th>\n",
              "      <td>MSI Core i7 11th Gen - (8 GB/512 GB SSD/Window...</td>\n",
              "      <td>₹68,990</td>\n",
              "    </tr>\n",
              "    <tr>\n",
              "      <th>18</th>\n",
              "      <td>Infinix INBook X1 Neo Series Celeron Quad Core...</td>\n",
              "      <td>₹24,999</td>\n",
              "    </tr>\n",
              "    <tr>\n",
              "      <th>19</th>\n",
              "      <td>HP Core i3 11th Gen - (8 GB/512 GB SSD/Windows...</td>\n",
              "      <td>₹42,990</td>\n",
              "    </tr>\n",
              "    <tr>\n",
              "      <th>20</th>\n",
              "      <td>Lenovo IdeaPad 3 Ryzen 5 Hexa Core 5500U - (8 ...</td>\n",
              "      <td>₹46,518</td>\n",
              "    </tr>\n",
              "    <tr>\n",
              "      <th>21</th>\n",
              "      <td>MSI Core i7 11th Gen - (8 GB/512 GB SSD/Window...</td>\n",
              "      <td>₹59,990</td>\n",
              "    </tr>\n",
              "    <tr>\n",
              "      <th>22</th>\n",
              "      <td>HP Core i3 11th Gen - (8 GB/512 GB SSD/Windows...</td>\n",
              "      <td>₹37,399</td>\n",
              "    </tr>\n",
              "    <tr>\n",
              "      <th>23</th>\n",
              "      <td>DELL Ryzen 5 Hexa Core AMD R5-5600H - (16 GB/5...</td>\n",
              "      <td>₹70,990</td>\n",
              "    </tr>\n",
              "  </tbody>\n",
              "</table>\n",
              "</div>\n",
              "      <button class=\"colab-df-convert\" onclick=\"convertToInteractive('df-75a92476-17df-443f-a5e8-433bf9ac9ecb')\"\n",
              "              title=\"Convert this dataframe to an interactive table.\"\n",
              "              style=\"display:none;\">\n",
              "        \n",
              "  <svg xmlns=\"http://www.w3.org/2000/svg\" height=\"24px\"viewBox=\"0 0 24 24\"\n",
              "       width=\"24px\">\n",
              "    <path d=\"M0 0h24v24H0V0z\" fill=\"none\"/>\n",
              "    <path d=\"M18.56 5.44l.94 2.06.94-2.06 2.06-.94-2.06-.94-.94-2.06-.94 2.06-2.06.94zm-11 1L8.5 8.5l.94-2.06 2.06-.94-2.06-.94L8.5 2.5l-.94 2.06-2.06.94zm10 10l.94 2.06.94-2.06 2.06-.94-2.06-.94-.94-2.06-.94 2.06-2.06.94z\"/><path d=\"M17.41 7.96l-1.37-1.37c-.4-.4-.92-.59-1.43-.59-.52 0-1.04.2-1.43.59L10.3 9.45l-7.72 7.72c-.78.78-.78 2.05 0 2.83L4 21.41c.39.39.9.59 1.41.59.51 0 1.02-.2 1.41-.59l7.78-7.78 2.81-2.81c.8-.78.8-2.07 0-2.86zM5.41 20L4 18.59l7.72-7.72 1.47 1.35L5.41 20z\"/>\n",
              "  </svg>\n",
              "      </button>\n",
              "      \n",
              "  <style>\n",
              "    .colab-df-container {\n",
              "      display:flex;\n",
              "      flex-wrap:wrap;\n",
              "      gap: 12px;\n",
              "    }\n",
              "\n",
              "    .colab-df-convert {\n",
              "      background-color: #E8F0FE;\n",
              "      border: none;\n",
              "      border-radius: 50%;\n",
              "      cursor: pointer;\n",
              "      display: none;\n",
              "      fill: #1967D2;\n",
              "      height: 32px;\n",
              "      padding: 0 0 0 0;\n",
              "      width: 32px;\n",
              "    }\n",
              "\n",
              "    .colab-df-convert:hover {\n",
              "      background-color: #E2EBFA;\n",
              "      box-shadow: 0px 1px 2px rgba(60, 64, 67, 0.3), 0px 1px 3px 1px rgba(60, 64, 67, 0.15);\n",
              "      fill: #174EA6;\n",
              "    }\n",
              "\n",
              "    [theme=dark] .colab-df-convert {\n",
              "      background-color: #3B4455;\n",
              "      fill: #D2E3FC;\n",
              "    }\n",
              "\n",
              "    [theme=dark] .colab-df-convert:hover {\n",
              "      background-color: #434B5C;\n",
              "      box-shadow: 0px 1px 3px 1px rgba(0, 0, 0, 0.15);\n",
              "      filter: drop-shadow(0px 1px 2px rgba(0, 0, 0, 0.3));\n",
              "      fill: #FFFFFF;\n",
              "    }\n",
              "  </style>\n",
              "\n",
              "      <script>\n",
              "        const buttonEl =\n",
              "          document.querySelector('#df-75a92476-17df-443f-a5e8-433bf9ac9ecb button.colab-df-convert');\n",
              "        buttonEl.style.display =\n",
              "          google.colab.kernel.accessAllowed ? 'block' : 'none';\n",
              "\n",
              "        async function convertToInteractive(key) {\n",
              "          const element = document.querySelector('#df-75a92476-17df-443f-a5e8-433bf9ac9ecb');\n",
              "          const dataTable =\n",
              "            await google.colab.kernel.invokeFunction('convertToInteractive',\n",
              "                                                     [key], {});\n",
              "          if (!dataTable) return;\n",
              "\n",
              "          const docLinkHtml = 'Like what you see? Visit the ' +\n",
              "            '<a target=\"_blank\" href=https://colab.research.google.com/notebooks/data_table.ipynb>data table notebook</a>'\n",
              "            + ' to learn more about interactive tables.';\n",
              "          element.innerHTML = '';\n",
              "          dataTable['output_type'] = 'display_data';\n",
              "          await google.colab.output.renderOutput(dataTable, element);\n",
              "          const docLink = document.createElement('div');\n",
              "          docLink.innerHTML = docLinkHtml;\n",
              "          element.appendChild(docLink);\n",
              "        }\n",
              "      </script>\n",
              "    </div>\n",
              "  </div>\n",
              "  "
            ]
          },
          "metadata": {},
          "execution_count": 60
        }
      ]
    },
    {
      "cell_type": "code",
      "source": [
        "final.to_csv(\"laptop.csv\",index=False)"
      ],
      "metadata": {
        "id": "fTy_9-KhxKM1"
      },
      "execution_count": 65,
      "outputs": []
    },
    {
      "cell_type": "code",
      "source": [
        "pd.read_csv(\"laptop.csv\")"
      ],
      "metadata": {
        "colab": {
          "base_uri": "https://localhost:8080/",
          "height": 802
        },
        "id": "8hLHMRRWzEId",
        "outputId": "6f5a1602-0b1c-4fca-d104-9eb08ef8d884"
      },
      "execution_count": 66,
      "outputs": [
        {
          "output_type": "execute_result",
          "data": {
            "text/plain": [
              "                                         LAPTOP NAMES      PRICE\n",
              "0   acer Aspire 7 Ryzen 5 Hexa Core AMD R5-5500U -...    ₹45,990\n",
              "1   RedmiBook 15 Core i3 11th Gen - (8 GB/256 GB S...    ₹29,999\n",
              "2   HP Athlon Dual Core 3050U - (4 GB/256 GB SSD/D...    ₹22,490\n",
              "3   HP Athlon Dual Core 3050U - (8 GB/512 GB SSD/W...    ₹29,990\n",
              "4   MSI GF63 Thin Core i5 11th Gen - (8 GB/512 GB ...    ₹49,990\n",
              "5   HP Athlon Dual Core 3050U - (8 GB/256 GB SSD/W...    ₹26,999\n",
              "6   ASUS VivoBook 15 (2022) Core i3 10th Gen - (8 ...    ₹35,990\n",
              "7   acer Aspire 7 Ryzen 5 Hexa Core 5500U - (16 GB...    ₹49,990\n",
              "8   MSI Bravo 15 Ryzen 5 Hexa Core AMD R5-5600H - ...    ₹49,990\n",
              "9   Lenovo IdeaPad 3 Celeron Dual Core - (8 GB/256...    ₹29,980\n",
              "10  Lenovo IdeaPad 3 Core i3 11th Gen - (8 GB/512 ...    ₹38,799\n",
              "11  ASUS VivoBook 14 (2022) Core i5 11th Gen - (8 ...    ₹47,990\n",
              "12  ASUS VivoBook 15 (2022) Core i5 10th Gen - (8 ...    ₹44,990\n",
              "13  HP Pavilion Ryzen 5 Hexa Core AMD R5-5600H - (...    ₹62,990\n",
              "14  APPLE 2021 Macbook Pro M1 Max - (32 GB/1 TB SS...  ₹3,09,490\n",
              "15  ASUS VivoBook 14 (2022) Ryzen 7 Quad Core AMD ...    ₹47,990\n",
              "16  DELL Inspiron Athlon Dual Core 3050U - (8 GB/2...    ₹31,990\n",
              "17  MSI Core i7 11th Gen - (8 GB/512 GB SSD/Window...    ₹68,990\n",
              "18  Infinix INBook X1 Neo Series Celeron Quad Core...    ₹24,999\n",
              "19  HP Core i3 11th Gen - (8 GB/512 GB SSD/Windows...    ₹42,990\n",
              "20  Lenovo IdeaPad 3 Ryzen 5 Hexa Core 5500U - (8 ...    ₹46,518\n",
              "21  MSI Core i7 11th Gen - (8 GB/512 GB SSD/Window...    ₹59,990\n",
              "22  HP Core i3 11th Gen - (8 GB/512 GB SSD/Windows...    ₹37,399\n",
              "23  DELL Ryzen 5 Hexa Core AMD R5-5600H - (16 GB/5...    ₹70,990"
            ],
            "text/html": [
              "\n",
              "  <div id=\"df-a56f65c2-561f-427e-887a-281af539f1cc\">\n",
              "    <div class=\"colab-df-container\">\n",
              "      <div>\n",
              "<style scoped>\n",
              "    .dataframe tbody tr th:only-of-type {\n",
              "        vertical-align: middle;\n",
              "    }\n",
              "\n",
              "    .dataframe tbody tr th {\n",
              "        vertical-align: top;\n",
              "    }\n",
              "\n",
              "    .dataframe thead th {\n",
              "        text-align: right;\n",
              "    }\n",
              "</style>\n",
              "<table border=\"1\" class=\"dataframe\">\n",
              "  <thead>\n",
              "    <tr style=\"text-align: right;\">\n",
              "      <th></th>\n",
              "      <th>LAPTOP NAMES</th>\n",
              "      <th>PRICE</th>\n",
              "    </tr>\n",
              "  </thead>\n",
              "  <tbody>\n",
              "    <tr>\n",
              "      <th>0</th>\n",
              "      <td>acer Aspire 7 Ryzen 5 Hexa Core AMD R5-5500U -...</td>\n",
              "      <td>₹45,990</td>\n",
              "    </tr>\n",
              "    <tr>\n",
              "      <th>1</th>\n",
              "      <td>RedmiBook 15 Core i3 11th Gen - (8 GB/256 GB S...</td>\n",
              "      <td>₹29,999</td>\n",
              "    </tr>\n",
              "    <tr>\n",
              "      <th>2</th>\n",
              "      <td>HP Athlon Dual Core 3050U - (4 GB/256 GB SSD/D...</td>\n",
              "      <td>₹22,490</td>\n",
              "    </tr>\n",
              "    <tr>\n",
              "      <th>3</th>\n",
              "      <td>HP Athlon Dual Core 3050U - (8 GB/512 GB SSD/W...</td>\n",
              "      <td>₹29,990</td>\n",
              "    </tr>\n",
              "    <tr>\n",
              "      <th>4</th>\n",
              "      <td>MSI GF63 Thin Core i5 11th Gen - (8 GB/512 GB ...</td>\n",
              "      <td>₹49,990</td>\n",
              "    </tr>\n",
              "    <tr>\n",
              "      <th>5</th>\n",
              "      <td>HP Athlon Dual Core 3050U - (8 GB/256 GB SSD/W...</td>\n",
              "      <td>₹26,999</td>\n",
              "    </tr>\n",
              "    <tr>\n",
              "      <th>6</th>\n",
              "      <td>ASUS VivoBook 15 (2022) Core i3 10th Gen - (8 ...</td>\n",
              "      <td>₹35,990</td>\n",
              "    </tr>\n",
              "    <tr>\n",
              "      <th>7</th>\n",
              "      <td>acer Aspire 7 Ryzen 5 Hexa Core 5500U - (16 GB...</td>\n",
              "      <td>₹49,990</td>\n",
              "    </tr>\n",
              "    <tr>\n",
              "      <th>8</th>\n",
              "      <td>MSI Bravo 15 Ryzen 5 Hexa Core AMD R5-5600H - ...</td>\n",
              "      <td>₹49,990</td>\n",
              "    </tr>\n",
              "    <tr>\n",
              "      <th>9</th>\n",
              "      <td>Lenovo IdeaPad 3 Celeron Dual Core - (8 GB/256...</td>\n",
              "      <td>₹29,980</td>\n",
              "    </tr>\n",
              "    <tr>\n",
              "      <th>10</th>\n",
              "      <td>Lenovo IdeaPad 3 Core i3 11th Gen - (8 GB/512 ...</td>\n",
              "      <td>₹38,799</td>\n",
              "    </tr>\n",
              "    <tr>\n",
              "      <th>11</th>\n",
              "      <td>ASUS VivoBook 14 (2022) Core i5 11th Gen - (8 ...</td>\n",
              "      <td>₹47,990</td>\n",
              "    </tr>\n",
              "    <tr>\n",
              "      <th>12</th>\n",
              "      <td>ASUS VivoBook 15 (2022) Core i5 10th Gen - (8 ...</td>\n",
              "      <td>₹44,990</td>\n",
              "    </tr>\n",
              "    <tr>\n",
              "      <th>13</th>\n",
              "      <td>HP Pavilion Ryzen 5 Hexa Core AMD R5-5600H - (...</td>\n",
              "      <td>₹62,990</td>\n",
              "    </tr>\n",
              "    <tr>\n",
              "      <th>14</th>\n",
              "      <td>APPLE 2021 Macbook Pro M1 Max - (32 GB/1 TB SS...</td>\n",
              "      <td>₹3,09,490</td>\n",
              "    </tr>\n",
              "    <tr>\n",
              "      <th>15</th>\n",
              "      <td>ASUS VivoBook 14 (2022) Ryzen 7 Quad Core AMD ...</td>\n",
              "      <td>₹47,990</td>\n",
              "    </tr>\n",
              "    <tr>\n",
              "      <th>16</th>\n",
              "      <td>DELL Inspiron Athlon Dual Core 3050U - (8 GB/2...</td>\n",
              "      <td>₹31,990</td>\n",
              "    </tr>\n",
              "    <tr>\n",
              "      <th>17</th>\n",
              "      <td>MSI Core i7 11th Gen - (8 GB/512 GB SSD/Window...</td>\n",
              "      <td>₹68,990</td>\n",
              "    </tr>\n",
              "    <tr>\n",
              "      <th>18</th>\n",
              "      <td>Infinix INBook X1 Neo Series Celeron Quad Core...</td>\n",
              "      <td>₹24,999</td>\n",
              "    </tr>\n",
              "    <tr>\n",
              "      <th>19</th>\n",
              "      <td>HP Core i3 11th Gen - (8 GB/512 GB SSD/Windows...</td>\n",
              "      <td>₹42,990</td>\n",
              "    </tr>\n",
              "    <tr>\n",
              "      <th>20</th>\n",
              "      <td>Lenovo IdeaPad 3 Ryzen 5 Hexa Core 5500U - (8 ...</td>\n",
              "      <td>₹46,518</td>\n",
              "    </tr>\n",
              "    <tr>\n",
              "      <th>21</th>\n",
              "      <td>MSI Core i7 11th Gen - (8 GB/512 GB SSD/Window...</td>\n",
              "      <td>₹59,990</td>\n",
              "    </tr>\n",
              "    <tr>\n",
              "      <th>22</th>\n",
              "      <td>HP Core i3 11th Gen - (8 GB/512 GB SSD/Windows...</td>\n",
              "      <td>₹37,399</td>\n",
              "    </tr>\n",
              "    <tr>\n",
              "      <th>23</th>\n",
              "      <td>DELL Ryzen 5 Hexa Core AMD R5-5600H - (16 GB/5...</td>\n",
              "      <td>₹70,990</td>\n",
              "    </tr>\n",
              "  </tbody>\n",
              "</table>\n",
              "</div>\n",
              "      <button class=\"colab-df-convert\" onclick=\"convertToInteractive('df-a56f65c2-561f-427e-887a-281af539f1cc')\"\n",
              "              title=\"Convert this dataframe to an interactive table.\"\n",
              "              style=\"display:none;\">\n",
              "        \n",
              "  <svg xmlns=\"http://www.w3.org/2000/svg\" height=\"24px\"viewBox=\"0 0 24 24\"\n",
              "       width=\"24px\">\n",
              "    <path d=\"M0 0h24v24H0V0z\" fill=\"none\"/>\n",
              "    <path d=\"M18.56 5.44l.94 2.06.94-2.06 2.06-.94-2.06-.94-.94-2.06-.94 2.06-2.06.94zm-11 1L8.5 8.5l.94-2.06 2.06-.94-2.06-.94L8.5 2.5l-.94 2.06-2.06.94zm10 10l.94 2.06.94-2.06 2.06-.94-2.06-.94-.94-2.06-.94 2.06-2.06.94z\"/><path d=\"M17.41 7.96l-1.37-1.37c-.4-.4-.92-.59-1.43-.59-.52 0-1.04.2-1.43.59L10.3 9.45l-7.72 7.72c-.78.78-.78 2.05 0 2.83L4 21.41c.39.39.9.59 1.41.59.51 0 1.02-.2 1.41-.59l7.78-7.78 2.81-2.81c.8-.78.8-2.07 0-2.86zM5.41 20L4 18.59l7.72-7.72 1.47 1.35L5.41 20z\"/>\n",
              "  </svg>\n",
              "      </button>\n",
              "      \n",
              "  <style>\n",
              "    .colab-df-container {\n",
              "      display:flex;\n",
              "      flex-wrap:wrap;\n",
              "      gap: 12px;\n",
              "    }\n",
              "\n",
              "    .colab-df-convert {\n",
              "      background-color: #E8F0FE;\n",
              "      border: none;\n",
              "      border-radius: 50%;\n",
              "      cursor: pointer;\n",
              "      display: none;\n",
              "      fill: #1967D2;\n",
              "      height: 32px;\n",
              "      padding: 0 0 0 0;\n",
              "      width: 32px;\n",
              "    }\n",
              "\n",
              "    .colab-df-convert:hover {\n",
              "      background-color: #E2EBFA;\n",
              "      box-shadow: 0px 1px 2px rgba(60, 64, 67, 0.3), 0px 1px 3px 1px rgba(60, 64, 67, 0.15);\n",
              "      fill: #174EA6;\n",
              "    }\n",
              "\n",
              "    [theme=dark] .colab-df-convert {\n",
              "      background-color: #3B4455;\n",
              "      fill: #D2E3FC;\n",
              "    }\n",
              "\n",
              "    [theme=dark] .colab-df-convert:hover {\n",
              "      background-color: #434B5C;\n",
              "      box-shadow: 0px 1px 3px 1px rgba(0, 0, 0, 0.15);\n",
              "      filter: drop-shadow(0px 1px 2px rgba(0, 0, 0, 0.3));\n",
              "      fill: #FFFFFF;\n",
              "    }\n",
              "  </style>\n",
              "\n",
              "      <script>\n",
              "        const buttonEl =\n",
              "          document.querySelector('#df-a56f65c2-561f-427e-887a-281af539f1cc button.colab-df-convert');\n",
              "        buttonEl.style.display =\n",
              "          google.colab.kernel.accessAllowed ? 'block' : 'none';\n",
              "\n",
              "        async function convertToInteractive(key) {\n",
              "          const element = document.querySelector('#df-a56f65c2-561f-427e-887a-281af539f1cc');\n",
              "          const dataTable =\n",
              "            await google.colab.kernel.invokeFunction('convertToInteractive',\n",
              "                                                     [key], {});\n",
              "          if (!dataTable) return;\n",
              "\n",
              "          const docLinkHtml = 'Like what you see? Visit the ' +\n",
              "            '<a target=\"_blank\" href=https://colab.research.google.com/notebooks/data_table.ipynb>data table notebook</a>'\n",
              "            + ' to learn more about interactive tables.';\n",
              "          element.innerHTML = '';\n",
              "          dataTable['output_type'] = 'display_data';\n",
              "          await google.colab.output.renderOutput(dataTable, element);\n",
              "          const docLink = document.createElement('div');\n",
              "          docLink.innerHTML = docLinkHtml;\n",
              "          element.appendChild(docLink);\n",
              "        }\n",
              "      </script>\n",
              "    </div>\n",
              "  </div>\n",
              "  "
            ]
          },
          "metadata": {},
          "execution_count": 66
        }
      ]
    },
    {
      "cell_type": "code",
      "source": [],
      "metadata": {
        "id": "fb9t-yRgzKL8"
      },
      "execution_count": null,
      "outputs": []
    }
  ]
}