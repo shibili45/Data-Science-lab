{
  "cells": [
    {
      "cell_type": "markdown",
      "metadata": {
        "id": "8AzeiEkhmrBQ"
      },
      "source": [
        "___\n",
        "\n",
        "<a href='http://www.pieriandata.com'> <img src='../Pierian_Data_Logo.png' /></a>\n",
        "___\n",
        "# Matplotlib Exercises \n",
        "\n",
        "Welcome to the exercises for reviewing matplotlib! Take your time with these, Matplotlib can be tricky to understand at first. These are relatively simple plots, but they can be hard if this is your first time with matplotlib, feel free to reference the solutions as you go along.\n",
        "\n",
        "Also don't worry if you find the matplotlib syntax frustrating, we actually won't be using it that often throughout the course, we will switch to using seaborn and pandas built-in visualization capabilities. But, those are built-off of matplotlib, which is why it is still important to get exposure to it!\n",
        "\n",
        "** * NOTE: ALL THE COMMANDS FOR PLOTTING A FIGURE SHOULD ALL GO IN THE SAME CELL. SEPARATING THEM OUT INTO MULTIPLE CELLS MAY CAUSE NOTHING TO SHOW UP. * **\n",
        "\n",
        "# Exercises\n",
        "\n",
        "Follow the instructions to recreate the plots using this data:\n",
        "\n",
        "## Data"
      ]
    },
    {
      "cell_type": "code",
      "execution_count": 1,
      "metadata": {
        "collapsed": true,
        "id": "eMdpMWgEmrBT"
      },
      "outputs": [],
      "source": [
        "import numpy as np\n",
        "x = np.arange(0,100)\n",
        "y = x*2\n",
        "z = x**2"
      ]
    },
    {
      "cell_type": "markdown",
      "metadata": {
        "id": "Sv4FCQmjmrBV"
      },
      "source": [
        "** Import matplotlib.pyplot as plt and set %matplotlib inline if you are using the jupyter notebook. What command do you use if you aren't using the jupyter notebook?**"
      ]
    },
    {
      "cell_type": "code",
      "execution_count": 2,
      "metadata": {
        "collapsed": true,
        "id": "ieiPZCrAmrBW"
      },
      "outputs": [],
      "source": [
        "import matplotlib.pyplot as plt\n",
        "%matplotlib inline\n",
        "\n",
        "#plt.show()"
      ]
    },
    {
      "cell_type": "markdown",
      "metadata": {
        "id": "cJxZZMv5mrBW"
      },
      "source": [
        "## Exercise 1\n",
        "\n",
        "** Follow along with these steps: **\n",
        "* ** Create a figure object called fig using plt.figure() **\n",
        "* ** Use add_axes to add an axis to the figure canvas at [0,0,1,1]. Call this new axis ax. **\n",
        "* ** Plot (x,y) on that axes and set the labels and titles to match the plot below:**"
      ]
    },
    {
      "cell_type": "code",
      "source": [
        "fig = plt.figure()\n",
        "ax = fig.add_axes([0,0,1,1])\n",
        "x = np.linspace(0,100,5)\n",
        "y = np.linspace(0,200,5)\n",
        "ax.plot(x,y)\n",
        "ax.set_xlabel('x')\n",
        "ax.set_ylabel('y')\n",
        "ax.set_title('title')"
      ],
      "metadata": {
        "id": "otbxnnhbOW3M",
        "outputId": "ad9f05e8-d18d-4181-f5b3-eb9f5930fc9a",
        "colab": {
          "base_uri": "https://localhost:8080/",
          "height": 383
        }
      },
      "execution_count": 43,
      "outputs": [
        {
          "output_type": "execute_result",
          "data": {
            "text/plain": [
              "Text(0.5, 1.0, 'title')"
            ]
          },
          "metadata": {},
          "execution_count": 43
        },
        {
          "output_type": "display_data",
          "data": {
            "text/plain": [
              "<Figure size 432x288 with 1 Axes>"
            ],
            "image/png": "[encoded data removed]"
          },
          "metadata": {
            "needs_background": "light"
          }
        }
      ]
    },
    {
      "cell_type": "code",
      "execution_count": 3,
      "metadata": {
        "id": "edpeJ9qQmrBW"
      },
      "outputs": [],
      "source": []
    },
    {
      "cell_type": "markdown",
      "metadata": {
        "id": "O_qf7THKmrBY"
      },
      "source": [
        "## Exercise 2\n",
        "** Create a figure object and put two axes on it, ax1 and ax2. Located at [0,0,1,1] and [0.2,0.5,.2,.2] respectively.**"
      ]
    },
    {
      "cell_type": "code",
      "execution_count": 44,
      "metadata": {
        "id": "9NjG-721mrBZ",
        "outputId": "9a6081f4-c99b-4e0b-cde8-db1159ddd462",
        "colab": {
          "base_uri": "https://localhost:8080/",
          "height": 340
        }
      },
      "outputs": [
        {
          "output_type": "display_data",
          "data": {
            "text/plain": [
              "<Figure size 432x288 with 2 Axes>"
            ],
            "image/png": "[encoded data removed]"
          },
          "metadata": {
            "needs_background": "light"
          }
        }
      ],
      "source": [
        "fig = plt.figure()\n",
        "\n",
        "ax1 = fig.add_axes([0,0,1,1])\n",
        "ax2 = fig.add_axes([0.2,0.5,.2,.2])"
      ]
    },
    {
      "cell_type": "markdown",
      "metadata": {
        "id": "6aWOHx31mrBZ"
      },
      "source": [
        "** Now plot (x,y) on both axes. And call your figure object to show it.**"
      ]
    },
    {
      "cell_type": "code",
      "execution_count": 46,
      "metadata": {
        "id": "6g_4dZV4mrBa",
        "outputId": "f89ae49e-1ef8-42cf-b44f-fdb31fb039cc",
        "colab": {
          "base_uri": "https://localhost:8080/",
          "height": 367
        }
      },
      "outputs": [
        {
          "output_type": "execute_result",
          "data": {
            "text/plain": [
              "Text(0, 0.5, 'y')"
            ]
          },
          "metadata": {},
          "execution_count": 46
        },
        {
          "output_type": "display_data",
          "data": {
            "text/plain": [
              "<Figure size 432x288 with 2 Axes>"
            ],
            "image/png": "[encoded data removed]"
          },
          "metadata": {
            "needs_background": "light"
          }
        }
      ],
      "source": [
        "fig = plt.figure()\n",
        "\n",
        "ax1 = fig.add_axes([0,0,1,1])\n",
        "ax2 = fig.add_axes([0.2,0.5,.2,.2])\n",
        "ax1.plot(x,y)\n",
        "ax1.set_xlabel('x')\n",
        "ax1.set_ylabel('y')\n",
        "\n",
        "\n",
        "ax2.plot(x,y)\n",
        "ax2.set_xlabel('x')\n",
        "ax2.set_ylabel('y')"
      ]
    },
    {
      "cell_type": "markdown",
      "metadata": {
        "id": "DJ48qcHfmrBa"
      },
      "source": [
        "## Exercise 3\n",
        "\n",
        "** Create the plot below by adding two axes to a figure object at [0,0,1,1] and [0.2,0.5,.4,.4]**"
      ]
    },
    {
      "cell_type": "code",
      "execution_count": 47,
      "metadata": {
        "id": "3WWieTRAmrBb",
        "outputId": "2b2c05ab-1232-4b3d-a404-2c37680af3d4",
        "colab": {
          "base_uri": "https://localhost:8080/",
          "height": 340
        }
      },
      "outputs": [
        {
          "output_type": "display_data",
          "data": {
            "text/plain": [
              "<Figure size 432x288 with 2 Axes>"
            ],
            "image/png": "[encoded data removed]"
          },
          "metadata": {
            "needs_background": "light"
          }
        }
      ],
      "source": [
        "fig = plt.figure()\n",
        "\n",
        "ax = fig.add_axes([0,0,1,1])\n",
        "ax2 = fig.add_axes([0.2,0.5,.4,.4])"
      ]
    },
    {
      "cell_type": "markdown",
      "metadata": {
        "id": "yg75sdvqmrBb"
      },
      "source": [
        "** Now use x,y, and z arrays to recreate the plot below. Notice the xlimits and y limits on the inserted plot:**"
      ]
    },
    {
      "cell_type": "code",
      "execution_count": 62,
      "metadata": {
        "id": "37-Xvn2TmrBc",
        "outputId": "3fda258d-7348-4d3d-a1ed-4d574228e35f",
        "colab": {
          "base_uri": "https://localhost:8080/",
          "height": 367
        }
      },
      "outputs": [
        {
          "output_type": "execute_result",
          "data": {
            "text/plain": [
              "(30.0, 50.0)"
            ]
          },
          "metadata": {},
          "execution_count": 62
        },
        {
          "output_type": "display_data",
          "data": {
            "text/plain": [
              "<Figure size 432x288 with 2 Axes>"
            ],
            "image/png": "[encoded data removed]"
          },
          "metadata": {
            "needs_background": "light"
          }
        }
      ],
      "source": [
        "fig = plt.figure()\n",
        "ax1 = fig.add_axes([0,0,1,1])\n",
        "x = np.linspace(0,100,5)\n",
        "z = np.linspace(0,10000,5)\n",
        "z = x**2\n",
        "ax1.plot(x,z)\n",
        "ax1.set_xlabel('X')\n",
        "ax1.set_ylabel('Z')\n",
        "ax2 = fig.add_axes([0.2,0.5,.3,.4])\n",
        "ax2.plot(x,2*x)\n",
        "ax2.set_title('zoom')\n",
        "ax2.set_xlabel('X')\n",
        "ax2.set_ylabel('Y')\n",
        "ax2.set_xlim(20,22)\n",
        "ax2.set_ylim(30,50)\n"
      ]
    },
    {
      "cell_type": "markdown",
      "metadata": {
        "id": "R--yBQoomrBc"
      },
      "source": [
        "## Exercise 4\n",
        "\n",
        "** Use plt.subplots(nrows=1, ncols=2) to create the plot below.**"
      ]
    },
    {
      "cell_type": "code",
      "execution_count": 60,
      "metadata": {
        "id": "pSOj-kWPmrBd",
        "outputId": "1834590c-b4e5-4ac4-d3c7-3884ff9e6f84",
        "colab": {
          "base_uri": "https://localhost:8080/",
          "height": 269
        }
      },
      "outputs": [
        {
          "output_type": "display_data",
          "data": {
            "text/plain": [
              "<Figure size 432x288 with 2 Axes>"
            ],
            "image/png": "[encoded data removed]"
          },
          "metadata": {
            "needs_background": "light"
          }
        }
      ],
      "source": [
        "\n",
        "fig, axes = plt.subplots(nrows=1, ncols=2)"
      ]
    },
    {
      "cell_type": "markdown",
      "metadata": {
        "id": "ZqfS7YLTmrBd"
      },
      "source": [
        "** Now plot (x,y) and (x,z) on the axes. Play around with the linewidth and style**"
      ]
    },
    {
      "cell_type": "code",
      "execution_count": 63,
      "metadata": {
        "id": "WJoyXERhmrBe",
        "outputId": "370d4f4c-d5af-4a31-98b0-e617f82769d9",
        "colab": {
          "base_uri": "https://localhost:8080/",
          "height": 282
        }
      },
      "outputs": [
        {
          "output_type": "execute_result",
          "data": {
            "text/plain": [
              "[<matplotlib.lines.Line2D at 0x7fe4c227b510>]"
            ]
          },
          "metadata": {},
          "execution_count": 63
        },
        {
          "output_type": "display_data",
          "data": {
            "text/plain": [
              "<Figure size 432x288 with 2 Axes>"
            ],
            "image/png": "[encoded data removed]"
          },
          "metadata": {
            "needs_background": "light"
          }
        }
      ],
      "source": [
        "fig, axes = plt.subplots(nrows=1, ncols=2)\n",
        "axes[0].plot(x,y,color='blue',lw=3,ls='--')\n",
        "axes[1].plot(x,z,color='red',lw=4)"
      ]
    },
    {
      "cell_type": "markdown",
      "metadata": {
        "id": "z58b_9k6mrBe"
      },
      "source": [
        "** See if you can resize the plot by adding the figsize() argument in plt.subplots() are copying and pasting your previous code.**"
      ]
    },
    {
      "cell_type": "code",
      "execution_count": 64,
      "metadata": {
        "id": "6BlacVmZmrBe",
        "outputId": "24531cdf-8508-4445-c058-24374416c50c",
        "colab": {
          "base_uri": "https://localhost:8080/",
          "height": 174
        }
      },
      "outputs": [
        {
          "output_type": "execute_result",
          "data": {
            "text/plain": [
              "[<matplotlib.lines.Line2D at 0x7fe4c26e1790>]"
            ]
          },
          "metadata": {},
          "execution_count": 64
        },
        {
          "output_type": "display_data",
          "data": {
            "text/plain": [
              "<Figure size 864x144 with 2 Axes>"
            ],
            "image/png": "[encoded data removed]"
          },
          "metadata": {
            "needs_background": "light"
          }
        }
      ],
      "source": [
        "fig, axes = plt.subplots(figsize=(12,2),nrows=1, ncols=2)\n",
        "axes[0].plot(x,y,color='blue',lw=4,ls='-')\n",
        "axes[1].plot(x,z,color='red',lw=4,ls=':')"
      ]
    },
    {
      "cell_type": "markdown",
      "metadata": {
        "id": "5BsPTxkCmrBf"
      },
      "source": [
        "# Great Job!"
      ]
    }
  ],
  "metadata": {
    "kernelspec": {
      "display_name": "Python 3",
      "language": "python",
      "name": "python3"
    },
    "language_info": {
      "codemirror_mode": {
        "name": "ipython",
        "version": 3
      },
      "file_extension": ".py",
      "mimetype": "text/x-python",
      "name": "python",
      "nbconvert_exporter": "python",
      "pygments_lexer": "ipython3",
      "version": "3.5.1"
    },
    "colab": {
      "name": "02-Matplotlib Exercises.ipynb",
      "provenance": []
    }
  },
  "nbformat": 4,
  "nbformat_minor": 0
}