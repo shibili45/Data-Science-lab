{
  "nbformat": 4,
  "nbformat_minor": 0,
  "metadata": {
    "colab": {
      "provenance": [],
      "authorship_tag": "ABX9TyPJV60U5n262OGzgVvubW8i",
      "include_colab_link": true
    },
    "kernelspec": {
      "name": "python3",
      "display_name": "Python 3"
    },
    "language_info": {
      "name": "python"
    }
  },
  "cells": [
    {
      "cell_type": "markdown",
      "metadata": {
        "id": "view-in-github",
        "colab_type": "text"
      },
      "source": [
        "<a href=\"https://colab.research.google.com/github/raichalvarghese/Data_Science_Lab/blob/master/PartsofSpeech.ipynb\" target=\"_parent\"><img src=\"https://colab.research.google.com/assets/colab-badge.svg\" alt=\"Open In Colab\"/></a>"
      ]
    },
    {
      "cell_type": "code",
      "execution_count": 29,
      "metadata": {
        "colab": {
          "base_uri": "https://localhost:8080/"
        },
        "id": "gkHgvy_FbO3c",
        "outputId": "2f8f05e9-386b-4bd6-c5ca-45695806cd73"
      },
      "outputs": [
        {
          "output_type": "stream",
          "name": "stderr",
          "text": [
            "[nltk_data] Downloading package punkt to /root/nltk_data...\n",
            "[nltk_data]   Package punkt is already up-to-date!\n",
            "[nltk_data] Downloading package averaged_perceptron_tagger to\n",
            "[nltk_data]     /root/nltk_data...\n",
            "[nltk_data]   Package averaged_perceptron_tagger is already up-to-\n",
            "[nltk_data]       date!\n"
          ]
        }
      ],
      "source": [
        "import nltk\n",
        "nltk.download('punkt')\n",
        "nltk.download('averaged_perceptron_tagger')\n",
        "from nltk.corpus import stopwords\n",
        "from nltk import word_tokenize, pos_tag, sent_tokenize\n",
        "sentence = \"I will move to California forever!\"\n",
        "tokens = word_tokenize(sentence)\n",
        "tags = pos_tag(tokens)"
      ]
    },
    {
      "cell_type": "code",
      "source": [
        "print(tags)"
      ],
      "metadata": {
        "id": "k0gpqQH2bn0y",
        "outputId": "7f0c49de-7bf0-492d-b373-5351faf3dc0a",
        "colab": {
          "base_uri": "https://localhost:8080/"
        }
      },
      "execution_count": 30,
      "outputs": [
        {
          "output_type": "stream",
          "name": "stdout",
          "text": [
            "[('I', 'PRP'), ('will', 'MD'), ('move', 'VB'), ('to', 'TO'), ('California', 'NNP'), ('forever', 'RB'), ('!', '.')]\n"
          ]
        }
      ]
    },
    {
      "cell_type": "code",
      "source": [],
      "metadata": {
        "id": "LtP2M1aKbqT4"
      },
      "execution_count": null,
      "outputs": []
    }
  ]
}