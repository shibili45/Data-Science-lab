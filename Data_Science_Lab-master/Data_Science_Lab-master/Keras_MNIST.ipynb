{
  "nbformat": 4,
  "nbformat_minor": 0,
  "metadata": {
    "colab": {
      "provenance": [],
      "collapsed_sections": [],
      "authorship_tag": "ABX9TyOooy8a2T0kMVEF5vcsO7vv",
      "include_colab_link": true
    },
    "kernelspec": {
      "name": "python3",
      "display_name": "Python 3"
    },
    "language_info": {
      "name": "python"
    }
  },
  "cells": [
    {
      "cell_type": "markdown",
      "metadata": {
        "id": "view-in-github",
        "colab_type": "text"
      },
      "source": [
        "<a href=\"https://colab.research.google.com/github/raichalvarghese/Data_Science_Lab/blob/master/Keras_MNIST.ipynb\" target=\"_parent\"><img src=\"https://colab.research.google.com/assets/colab-badge.svg\" alt=\"Open In Colab\"/></a>"
      ]
    },
    {
      "cell_type": "code",
      "execution_count": 2,
      "metadata": {
        "id": "zzmCVAY1kd_S",
        "colab": {
          "base_uri": "https://localhost:8080/"
        },
        "outputId": "0f1faf91-19b0-496c-beb3-002409401014"
      },
      "outputs": [
        {
          "output_type": "stream",
          "name": "stdout",
          "text": [
            "Downloading data from https://storage.googleapis.com/tensorflow/tf-keras-datasets/mnist.npz\n",
            "11490434/11490434 [==============================] - 0s 0us/step\n"
          ]
        }
      ],
      "source": [
        "from keras.datasets import mnist\n",
        "(train_images,train_labels),(test_images,test_labels)=mnist.load_data()"
      ]
    },
    {
      "cell_type": "code",
      "source": [
        "from keras import models\n",
        "from keras.layers import Dense, Dropout\n",
        "from keras.utils import to_categorical\n",
        "from keras.datasets import mnist\n",
        "from keras.utils.vis_utils import model_to_dot\n",
        "from IPython.display import SVG\n",
        "\n",
        "\n",
        "%matplotlib inline\n",
        "\n",
        "NUM_ROWS = 28\n",
        "NUM_COLS = 28\n",
        "NUM_CLASSES = 10\n",
        "BATCH_SIZE = 128\n",
        "EPOCHS = 10\n",
        "\n",
        "def data_summary(X_train, y_train, X_test, y_test):\n",
        "    \"\"\"Summarize current state of dataset\"\"\"\n",
        "    print('Train images shape:', X_train.shape)\n",
        "    print('Train labels shape:', y_train.shape)\n",
        "    print('Test images shape:', X_test.shape)\n",
        "    print('Test labels shape:', y_test.shape)\n",
        "    print('Train labels:', y_train)\n",
        "    print('Test labels:', y_test)\n",
        "\n",
        "\n",
        "# Load data\n",
        "(X_train, y_train), (X_test, y_test) = mnist.load_data()\n",
        "\n",
        "# Check state of dataset\n",
        "data_summary(X_train, y_train, X_test, y_test)\n",
        "\n",
        "# Reshape data\n",
        "X_train = X_train.reshape((X_train.shape[0], NUM_ROWS * NUM_COLS))\n",
        "X_train = X_train.astype('float32') / 255\n",
        "X_test = X_test.reshape((X_test.shape[0], NUM_ROWS * NUM_COLS))\n",
        "X_test = X_test.astype('float32') / 255\n",
        "\n",
        "# Categorically encode labels\n",
        "y_train = to_categorical(y_train, NUM_CLASSES)\n",
        "y_test = to_categorical(y_test, NUM_CLASSES)\n",
        "\n",
        "# Check state of dataset\n",
        "data_summary(X_train, y_train, X_test, y_test)\n",
        "\n",
        "\n",
        "\"\"\"Build and train neural network\"\"\"\n",
        "\n",
        "# Build neural network\n",
        "model = models.Sequential()\n",
        "model.add(Dense(512, activation='relu', input_shape=(NUM_ROWS * NUM_COLS,)))\n",
        "model.add(Dropout(0.5))\n",
        "model.add(Dense(256, activation='relu'))\n",
        "model.add(Dropout(0.25))\n",
        "model.add(Dense(10, activation='softmax'))\n",
        "\n",
        "\n"
      ],
      "metadata": {
        "colab": {
          "base_uri": "https://localhost:8080/"
        },
        "id": "1A1hziJwnBXz",
        "outputId": "80ac89f6-efd6-41af-f2df-b58a904a5656"
      },
      "execution_count": 21,
      "outputs": [
        {
          "output_type": "stream",
          "name": "stdout",
          "text": [
            "Train images shape: (60000, 28, 28)\n",
            "Train labels shape: (60000,)\n",
            "Test images shape: (10000, 28, 28)\n",
            "Test labels shape: (10000,)\n",
            "Train labels: [5 0 4 ... 5 6 8]\n",
            "Test labels: [7 2 1 ... 4 5 6]\n",
            "Train images shape: (60000, 784)\n",
            "Train labels shape: (60000, 10)\n",
            "Test images shape: (10000, 784)\n",
            "Test labels shape: (10000, 10)\n",
            "Train labels: [[0. 0. 0. ... 0. 0. 0.]\n",
            " [1. 0. 0. ... 0. 0. 0.]\n",
            " [0. 0. 0. ... 0. 0. 0.]\n",
            " ...\n",
            " [0. 0. 0. ... 0. 0. 0.]\n",
            " [0. 0. 0. ... 0. 0. 0.]\n",
            " [0. 0. 0. ... 0. 1. 0.]]\n",
            "Test labels: [[0. 0. 0. ... 1. 0. 0.]\n",
            " [0. 0. 1. ... 0. 0. 0.]\n",
            " [0. 1. 0. ... 0. 0. 0.]\n",
            " ...\n",
            " [0. 0. 0. ... 0. 0. 0.]\n",
            " [0. 0. 0. ... 0. 0. 0.]\n",
            " [0. 0. 0. ... 0. 0. 0.]]\n"
          ]
        }
      ]
    },
    {
      "cell_type": "code",
      "source": [
        "model.compile(optimizer='rmsprop',\n",
        "              loss='categorical_crossentropy',\n",
        "              metrics=['accuracy'])\n",
        "\n",
        "# Train model\n",
        "model.fit(X_train, y_train,\n",
        "          batch_size=BATCH_SIZE,\n",
        "          epochs=EPOCHS,\n",
        "          verbose=1,\n",
        "          validation_data=(X_test, y_test))\n",
        "\n",
        "score = model.evaluate(X_test, y_test, verbose=0)\n",
        "print('Test loss:', score[0])\n",
        "print('Test accuracy:', score[1])\n",
        "\n",
        "\n",
        "\"\"\"Summarize and visualize the model\"\"\"\n",
        "\n",
        "# Summary of neural network\n",
        "model.summary()\n",
        "\n",
        "# Output network visualization\n",
        "SVG(model_to_dot(model).create(prog='dot', format='svg'))"
      ],
      "metadata": {
        "colab": {
          "base_uri": "https://localhost:8080/",
          "height": 1000
        },
        "id": "YsmDSYMwnBa7",
        "outputId": "0c200191-54c9-4113-9159-4f1a4224c8ba"
      },
      "execution_count": 23,
      "outputs": [
        {
          "output_type": "stream",
          "name": "stdout",
          "text": [
            "Epoch 1/10\n",
            "469/469 [==============================] - 9s 17ms/step - loss: 0.3220 - accuracy: 0.9013 - val_loss: 0.1229 - val_accuracy: 0.9619\n",
            "Epoch 2/10\n",
            "469/469 [==============================] - 8s 17ms/step - loss: 0.1569 - accuracy: 0.9530 - val_loss: 0.0915 - val_accuracy: 0.9731\n",
            "Epoch 3/10\n",
            "469/469 [==============================] - 8s 17ms/step - loss: 0.1215 - accuracy: 0.9640 - val_loss: 0.0842 - val_accuracy: 0.9752\n",
            "Epoch 4/10\n",
            "469/469 [==============================] - 8s 16ms/step - loss: 0.1058 - accuracy: 0.9696 - val_loss: 0.0833 - val_accuracy: 0.9774\n",
            "Epoch 5/10\n",
            "469/469 [==============================] - 8s 17ms/step - loss: 0.0979 - accuracy: 0.9711 - val_loss: 0.0769 - val_accuracy: 0.9794\n",
            "Epoch 6/10\n",
            "469/469 [==============================] - 8s 17ms/step - loss: 0.0904 - accuracy: 0.9739 - val_loss: 0.0766 - val_accuracy: 0.9792\n",
            "Epoch 7/10\n",
            "469/469 [==============================] - 8s 18ms/step - loss: 0.0842 - accuracy: 0.9757 - val_loss: 0.0772 - val_accuracy: 0.9798\n",
            "Epoch 8/10\n",
            "469/469 [==============================] - 8s 17ms/step - loss: 0.0792 - accuracy: 0.9778 - val_loss: 0.0774 - val_accuracy: 0.9814\n",
            "Epoch 9/10\n",
            "469/469 [==============================] - 8s 17ms/step - loss: 0.0727 - accuracy: 0.9791 - val_loss: 0.0791 - val_accuracy: 0.9804\n",
            "Epoch 10/10\n",
            "469/469 [==============================] - 8s 17ms/step - loss: 0.0719 - accuracy: 0.9803 - val_loss: 0.0729 - val_accuracy: 0.9833\n",
            "Test loss: 0.07294578105211258\n",
            "Test accuracy: 0.983299970626831\n",
            "Model: \"sequential_1\"\n",
            "_________________________________________________________________\n",
            " Layer (type)                Output Shape              Param #   \n",
            "=================================================================\n",
            " dense_2 (Dense)             (None, 512)               401920    \n",
            "                                                                 \n",
            " dropout (Dropout)           (None, 512)               0         \n",
            "                                                                 \n",
            " dense_3 (Dense)             (None, 256)               131328    \n",
            "                                                                 \n",
            " dropout_1 (Dropout)         (None, 256)               0         \n",
            "                                                                 \n",
            " dense_4 (Dense)             (None, 10)                2570      \n",
            "                                                                 \n",
            "=================================================================\n",
            "Total params: 535,818\n",
            "Trainable params: 535,818\n",
            "Non-trainable params: 0\n",
            "_________________________________________________________________\n"
          ]
        },
        {
          "output_type": "execute_result",
          "data": {
            "text/plain": [
              "<IPython.core.display.SVG object>"
            ],
            "image/svg+xml": "<svg height=\"547pt\" viewBox=\"0.00 0.00 189.00 410.00\" width=\"252pt\" xmlns=\"http://www.w3.org/2000/svg\" xmlns:xlink=\"http://www.w3.org/1999/xlink\">\n<g class=\"graph\" id=\"graph0\" transform=\"scale(1.3333 1.3333) rotate(0) translate(4 406)\">\n<title>G</title>\n<polygon fill=\"#ffffff\" points=\"-4,4 -4,-406 185,-406 185,4 -4,4\" stroke=\"transparent\"/>\n<!-- 139779397127696 -->\n<g class=\"node\" id=\"node1\">\n<title>139779397127696</title>\n<polygon fill=\"none\" points=\"0,-365.5 0,-401.5 181,-401.5 181,-365.5 0,-365.5\" stroke=\"#000000\"/>\n<text fill=\"#000000\" font-family=\"Times,serif\" font-size=\"14.00\" text-anchor=\"middle\" x=\"50.5\" y=\"-379.8\">dense_2_input</text>\n<polyline fill=\"none\" points=\"101,-365.5 101,-401.5 \" stroke=\"#000000\"/>\n<text fill=\"#000000\" font-family=\"Times,serif\" font-size=\"14.00\" text-anchor=\"middle\" x=\"141\" y=\"-379.8\">InputLayer</text>\n</g>\n<!-- 139779397100240 -->\n<g class=\"node\" id=\"node2\">\n<title>139779397100240</title>\n<polygon fill=\"none\" points=\"32.5,-292.5 32.5,-328.5 148.5,-328.5 148.5,-292.5 32.5,-292.5\" stroke=\"#000000\"/>\n<text fill=\"#000000\" font-family=\"Times,serif\" font-size=\"14.00\" text-anchor=\"middle\" x=\"64.5\" y=\"-306.8\">dense_2</text>\n<polyline fill=\"none\" points=\"96.5,-292.5 96.5,-328.5 \" stroke=\"#000000\"/>\n<text fill=\"#000000\" font-family=\"Times,serif\" font-size=\"14.00\" text-anchor=\"middle\" x=\"122.5\" y=\"-306.8\">Dense</text>\n</g>\n<!-- 139779397127696&#45;&gt;139779397100240 -->\n<g class=\"edge\" id=\"edge1\">\n<title>139779397127696-&gt;139779397100240</title>\n<path d=\"M90.5,-365.4551C90.5,-357.3828 90.5,-347.6764 90.5,-338.6817\" fill=\"none\" stroke=\"#000000\"/>\n<polygon fill=\"#000000\" points=\"94.0001,-338.5903 90.5,-328.5904 87.0001,-338.5904 94.0001,-338.5903\" stroke=\"#000000\"/>\n</g>\n<!-- 139779431953872 -->\n<g class=\"node\" id=\"node3\">\n<title>139779431953872</title>\n<polygon fill=\"none\" points=\"27,-219.5 27,-255.5 154,-255.5 154,-219.5 27,-219.5\" stroke=\"#000000\"/>\n<text fill=\"#000000\" font-family=\"Times,serif\" font-size=\"14.00\" text-anchor=\"middle\" x=\"58\" y=\"-233.8\">dropout</text>\n<polyline fill=\"none\" points=\"89,-219.5 89,-255.5 \" stroke=\"#000000\"/>\n<text fill=\"#000000\" font-family=\"Times,serif\" font-size=\"14.00\" text-anchor=\"middle\" x=\"121.5\" y=\"-233.8\">Dropout</text>\n</g>\n<!-- 139779397100240&#45;&gt;139779431953872 -->\n<g class=\"edge\" id=\"edge2\">\n<title>139779397100240-&gt;139779431953872</title>\n<path d=\"M90.5,-292.4551C90.5,-284.3828 90.5,-274.6764 90.5,-265.6817\" fill=\"none\" stroke=\"#000000\"/>\n<polygon fill=\"#000000\" points=\"94.0001,-265.5903 90.5,-255.5904 87.0001,-265.5904 94.0001,-265.5903\" stroke=\"#000000\"/>\n</g>\n<!-- 139779414676816 -->\n<g class=\"node\" id=\"node4\">\n<title>139779414676816</title>\n<polygon fill=\"none\" points=\"32.5,-146.5 32.5,-182.5 148.5,-182.5 148.5,-146.5 32.5,-146.5\" stroke=\"#000000\"/>\n<text fill=\"#000000\" font-family=\"Times,serif\" font-size=\"14.00\" text-anchor=\"middle\" x=\"64.5\" y=\"-160.8\">dense_3</text>\n<polyline fill=\"none\" points=\"96.5,-146.5 96.5,-182.5 \" stroke=\"#000000\"/>\n<text fill=\"#000000\" font-family=\"Times,serif\" font-size=\"14.00\" text-anchor=\"middle\" x=\"122.5\" y=\"-160.8\">Dense</text>\n</g>\n<!-- 139779431953872&#45;&gt;139779414676816 -->\n<g class=\"edge\" id=\"edge3\">\n<title>139779431953872-&gt;139779414676816</title>\n<path d=\"M90.5,-219.4551C90.5,-211.3828 90.5,-201.6764 90.5,-192.6817\" fill=\"none\" stroke=\"#000000\"/>\n<polygon fill=\"#000000\" points=\"94.0001,-192.5903 90.5,-182.5904 87.0001,-192.5904 94.0001,-192.5903\" stroke=\"#000000\"/>\n</g>\n<!-- 139779397413520 -->\n<g class=\"node\" id=\"node5\">\n<title>139779397413520</title>\n<polygon fill=\"none\" points=\"19.5,-73.5 19.5,-109.5 161.5,-109.5 161.5,-73.5 19.5,-73.5\" stroke=\"#000000\"/>\n<text fill=\"#000000\" font-family=\"Times,serif\" font-size=\"14.00\" text-anchor=\"middle\" x=\"58\" y=\"-87.8\">dropout_1</text>\n<polyline fill=\"none\" points=\"96.5,-73.5 96.5,-109.5 \" stroke=\"#000000\"/>\n<text fill=\"#000000\" font-family=\"Times,serif\" font-size=\"14.00\" text-anchor=\"middle\" x=\"129\" y=\"-87.8\">Dropout</text>\n</g>\n<!-- 139779414676816&#45;&gt;139779397413520 -->\n<g class=\"edge\" id=\"edge4\">\n<title>139779414676816-&gt;139779397413520</title>\n<path d=\"M90.5,-146.4551C90.5,-138.3828 90.5,-128.6764 90.5,-119.6817\" fill=\"none\" stroke=\"#000000\"/>\n<polygon fill=\"#000000\" points=\"94.0001,-119.5903 90.5,-109.5904 87.0001,-119.5904 94.0001,-119.5903\" stroke=\"#000000\"/>\n</g>\n<!-- 139779397220752 -->\n<g class=\"node\" id=\"node6\">\n<title>139779397220752</title>\n<polygon fill=\"none\" points=\"32.5,-.5 32.5,-36.5 148.5,-36.5 148.5,-.5 32.5,-.5\" stroke=\"#000000\"/>\n<text fill=\"#000000\" font-family=\"Times,serif\" font-size=\"14.00\" text-anchor=\"middle\" x=\"64.5\" y=\"-14.8\">dense_4</text>\n<polyline fill=\"none\" points=\"96.5,-.5 96.5,-36.5 \" stroke=\"#000000\"/>\n<text fill=\"#000000\" font-family=\"Times,serif\" font-size=\"14.00\" text-anchor=\"middle\" x=\"122.5\" y=\"-14.8\">Dense</text>\n</g>\n<!-- 139779397413520&#45;&gt;139779397220752 -->\n<g class=\"edge\" id=\"edge5\">\n<title>139779397413520-&gt;139779397220752</title>\n<path d=\"M90.5,-73.4551C90.5,-65.3828 90.5,-55.6764 90.5,-46.6817\" fill=\"none\" stroke=\"#000000\"/>\n<polygon fill=\"#000000\" points=\"94.0001,-46.5903 90.5,-36.5904 87.0001,-46.5904 94.0001,-46.5903\" stroke=\"#000000\"/>\n</g>\n</g>\n</svg>"
          },
          "metadata": {},
          "execution_count": 23
        }
      ]
    },
    {
      "cell_type": "code",
      "source": [],
      "metadata": {
        "id": "M9Jn6DDknBdz"
      },
      "execution_count": null,
      "outputs": []
    },
    {
      "cell_type": "code",
      "source": [],
      "metadata": {
        "id": "Htb1w6AKnBgj"
      },
      "execution_count": null,
      "outputs": []
    },
    {
      "cell_type": "code",
      "source": [],
      "metadata": {
        "id": "enVrCBeGnBjW"
      },
      "execution_count": null,
      "outputs": []
    },
    {
      "cell_type": "code",
      "source": [],
      "metadata": {
        "id": "GlbucWhInBls"
      },
      "execution_count": null,
      "outputs": []
    },
    {
      "cell_type": "code",
      "source": [],
      "metadata": {
        "id": "7coRuv9AnBoD"
      },
      "execution_count": null,
      "outputs": []
    }
  ]
}